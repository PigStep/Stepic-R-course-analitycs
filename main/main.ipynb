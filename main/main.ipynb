{
 "cells": [
  {
   "cell_type": "markdown",
   "id": "6a642477",
   "metadata": {},
   "source": [
    "# Введение\n",
    "Подключение необходимых библиотек"
   ]
  },
  {
   "cell_type": "code",
   "execution_count": 232,
   "id": "54d97878",
   "metadata": {},
   "outputs": [],
   "source": [
    "import pandas as pd\n",
    "import numpy as np\n",
    "\n",
    "%matplotlib inline\n",
    "import matplotlib.pyplot as plt\n",
    "import seaborn as sns"
   ]
  },
  {
   "cell_type": "code",
   "execution_count": 185,
   "id": "b4ed0cb4",
   "metadata": {},
   "outputs": [],
   "source": [
    "events_data = pd.read_csv(\"event_data_train.csv\")\n",
    "submissions = pd.read_csv(\"submissions_data_train.csv\")"
   ]
  },
  {
   "cell_type": "code",
   "execution_count": 186,
   "id": "47ed183d",
   "metadata": {},
   "outputs": [
    {
     "data": {
      "text/html": [
       "<div>\n",
       "<style scoped>\n",
       "    .dataframe tbody tr th:only-of-type {\n",
       "        vertical-align: middle;\n",
       "    }\n",
       "\n",
       "    .dataframe tbody tr th {\n",
       "        vertical-align: top;\n",
       "    }\n",
       "\n",
       "    .dataframe thead th {\n",
       "        text-align: right;\n",
       "    }\n",
       "</style>\n",
       "<table border=\"1\" class=\"dataframe\">\n",
       "  <thead>\n",
       "    <tr style=\"text-align: right;\">\n",
       "      <th></th>\n",
       "      <th>step_id</th>\n",
       "      <th>timestamp</th>\n",
       "      <th>action</th>\n",
       "      <th>user_id</th>\n",
       "    </tr>\n",
       "  </thead>\n",
       "  <tbody>\n",
       "    <tr>\n",
       "      <th>0</th>\n",
       "      <td>32815</td>\n",
       "      <td>1434340848</td>\n",
       "      <td>viewed</td>\n",
       "      <td>17632</td>\n",
       "    </tr>\n",
       "    <tr>\n",
       "      <th>1</th>\n",
       "      <td>32815</td>\n",
       "      <td>1434340848</td>\n",
       "      <td>passed</td>\n",
       "      <td>17632</td>\n",
       "    </tr>\n",
       "    <tr>\n",
       "      <th>2</th>\n",
       "      <td>32815</td>\n",
       "      <td>1434340848</td>\n",
       "      <td>discovered</td>\n",
       "      <td>17632</td>\n",
       "    </tr>\n",
       "    <tr>\n",
       "      <th>3</th>\n",
       "      <td>32811</td>\n",
       "      <td>1434340895</td>\n",
       "      <td>discovered</td>\n",
       "      <td>17632</td>\n",
       "    </tr>\n",
       "    <tr>\n",
       "      <th>4</th>\n",
       "      <td>32811</td>\n",
       "      <td>1434340895</td>\n",
       "      <td>viewed</td>\n",
       "      <td>17632</td>\n",
       "    </tr>\n",
       "  </tbody>\n",
       "</table>\n",
       "</div>"
      ],
      "text/plain": [
       "   step_id   timestamp      action  user_id\n",
       "0    32815  1434340848      viewed    17632\n",
       "1    32815  1434340848      passed    17632\n",
       "2    32815  1434340848  discovered    17632\n",
       "3    32811  1434340895  discovered    17632\n",
       "4    32811  1434340895      viewed    17632"
      ]
     },
     "execution_count": 186,
     "metadata": {},
     "output_type": "execute_result"
    }
   ],
   "source": [
    "events_data.head()"
   ]
  },
  {
   "cell_type": "code",
   "execution_count": 187,
   "id": "7228ce3a",
   "metadata": {},
   "outputs": [
    {
     "data": {
      "text/html": [
       "<div>\n",
       "<style scoped>\n",
       "    .dataframe tbody tr th:only-of-type {\n",
       "        vertical-align: middle;\n",
       "    }\n",
       "\n",
       "    .dataframe tbody tr th {\n",
       "        vertical-align: top;\n",
       "    }\n",
       "\n",
       "    .dataframe thead th {\n",
       "        text-align: right;\n",
       "    }\n",
       "</style>\n",
       "<table border=\"1\" class=\"dataframe\">\n",
       "  <thead>\n",
       "    <tr style=\"text-align: right;\">\n",
       "      <th></th>\n",
       "      <th>step_id</th>\n",
       "      <th>timestamp</th>\n",
       "      <th>submission_status</th>\n",
       "      <th>user_id</th>\n",
       "    </tr>\n",
       "  </thead>\n",
       "  <tbody>\n",
       "    <tr>\n",
       "      <th>0</th>\n",
       "      <td>31971</td>\n",
       "      <td>1434349275</td>\n",
       "      <td>correct</td>\n",
       "      <td>15853</td>\n",
       "    </tr>\n",
       "    <tr>\n",
       "      <th>1</th>\n",
       "      <td>31972</td>\n",
       "      <td>1434348300</td>\n",
       "      <td>correct</td>\n",
       "      <td>15853</td>\n",
       "    </tr>\n",
       "    <tr>\n",
       "      <th>2</th>\n",
       "      <td>31972</td>\n",
       "      <td>1478852149</td>\n",
       "      <td>wrong</td>\n",
       "      <td>15853</td>\n",
       "    </tr>\n",
       "    <tr>\n",
       "      <th>3</th>\n",
       "      <td>31972</td>\n",
       "      <td>1478852164</td>\n",
       "      <td>correct</td>\n",
       "      <td>15853</td>\n",
       "    </tr>\n",
       "    <tr>\n",
       "      <th>4</th>\n",
       "      <td>31976</td>\n",
       "      <td>1434348123</td>\n",
       "      <td>wrong</td>\n",
       "      <td>15853</td>\n",
       "    </tr>\n",
       "  </tbody>\n",
       "</table>\n",
       "</div>"
      ],
      "text/plain": [
       "   step_id   timestamp submission_status  user_id\n",
       "0    31971  1434349275           correct    15853\n",
       "1    31972  1434348300           correct    15853\n",
       "2    31972  1478852149             wrong    15853\n",
       "3    31972  1478852164           correct    15853\n",
       "4    31976  1434348123             wrong    15853"
      ]
     },
     "execution_count": 187,
     "metadata": {},
     "output_type": "execute_result"
    }
   ],
   "source": [
    "submissions.head()"
   ]
  },
  {
   "cell_type": "markdown",
   "id": "a3cf206d",
   "metadata": {},
   "source": [
    "## преобразование исходных данных"
   ]
  },
  {
   "cell_type": "code",
   "execution_count": 188,
   "id": "3873eec3",
   "metadata": {},
   "outputs": [],
   "source": [
    "#коолонка для даты (до секнуд)\n",
    "events_data[\"date\"] = pd.to_datetime(events_data[\"timestamp\"],unit='s')\n",
    "\n",
    "#добавить колонку даты до дня\n",
    "events_data['day']=events_data['date'].dt.date \n",
    "\n",
    "#те же операции с submission\n",
    "submissions[\"date\"] = pd.to_datetime(submissions['timestamp'],unit=\"s\")\n",
    "submissions[\"day\"] = submissions[\"date\"].dt.date"
   ]
  },
  {
   "cell_type": "markdown",
   "id": "b6d702c6",
   "metadata": {},
   "source": [
    "# Анализ данных"
   ]
  },
  {
   "cell_type": "code",
   "execution_count": 189,
   "id": "81671934",
   "metadata": {},
   "outputs": [
    {
     "data": {
      "image/png": "[encoded data removed]",
      "text/plain": [
       "<Figure size 1000x400 with 1 Axes>"
      ]
     },
     "metadata": {},
     "output_type": "display_data"
    }
   ],
   "source": [
    "fig,ax = plt.subplots(figsize=(10,4))\n",
    "\n",
    "day_users = events_data.groupby(\"day\").user_id.nunique().plot(ax = ax)"
   ]
  },
  {
   "cell_type": "markdown",
   "id": "8ceb474e",
   "metadata": {},
   "source": [
    "## Подсчет участников с исползованием pivot таблиц"
   ]
  },
  {
   "cell_type": "code",
   "execution_count": 190,
   "id": "79e6678f",
   "metadata": {},
   "outputs": [
    {
     "data": {
      "text/plain": [
       "[]"
      ]
     },
     "execution_count": 190,
     "metadata": {},
     "output_type": "execute_result"
    },
    {
     "data": {
      "image/png": "[encoded data removed]",
      "text/plain": [
       "<Figure size 640x480 with 1 Axes>"
      ]
     },
     "metadata": {},
     "output_type": "display_data"
    }
   ],
   "source": [
    "fig, ax = plt.subplots()\n",
    "ax = events_data.pivot_table(index=\"user_id\",columns=\"action\",values=\"step_id\",aggfunc=\"count\",fill_value=0).discovered.hist()\n",
    "\n",
    "ax.plot()"
   ]
  },
  {
   "cell_type": "code",
   "execution_count": 191,
   "id": "c4ed0d7c",
   "metadata": {},
   "outputs": [
    {
     "data": {
      "text/html": [
       "<div>\n",
       "<style scoped>\n",
       "    .dataframe tbody tr th:only-of-type {\n",
       "        vertical-align: middle;\n",
       "    }\n",
       "\n",
       "    .dataframe tbody tr th {\n",
       "        vertical-align: top;\n",
       "    }\n",
       "\n",
       "    .dataframe thead th {\n",
       "        text-align: right;\n",
       "    }\n",
       "</style>\n",
       "<table border=\"1\" class=\"dataframe\">\n",
       "  <thead>\n",
       "    <tr style=\"text-align: right;\">\n",
       "      <th>action</th>\n",
       "      <th>user_id</th>\n",
       "      <th>discovered</th>\n",
       "      <th>passed</th>\n",
       "      <th>started_attempt</th>\n",
       "      <th>viewed</th>\n",
       "    </tr>\n",
       "  </thead>\n",
       "  <tbody>\n",
       "    <tr>\n",
       "      <th>0</th>\n",
       "      <td>1</td>\n",
       "      <td>1</td>\n",
       "      <td>0</td>\n",
       "      <td>0</td>\n",
       "      <td>1</td>\n",
       "    </tr>\n",
       "    <tr>\n",
       "      <th>1</th>\n",
       "      <td>2</td>\n",
       "      <td>9</td>\n",
       "      <td>9</td>\n",
       "      <td>2</td>\n",
       "      <td>10</td>\n",
       "    </tr>\n",
       "    <tr>\n",
       "      <th>2</th>\n",
       "      <td>3</td>\n",
       "      <td>91</td>\n",
       "      <td>87</td>\n",
       "      <td>30</td>\n",
       "      <td>192</td>\n",
       "    </tr>\n",
       "    <tr>\n",
       "      <th>3</th>\n",
       "      <td>5</td>\n",
       "      <td>11</td>\n",
       "      <td>11</td>\n",
       "      <td>4</td>\n",
       "      <td>12</td>\n",
       "    </tr>\n",
       "    <tr>\n",
       "      <th>4</th>\n",
       "      <td>7</td>\n",
       "      <td>1</td>\n",
       "      <td>1</td>\n",
       "      <td>0</td>\n",
       "      <td>1</td>\n",
       "    </tr>\n",
       "  </tbody>\n",
       "</table>\n",
       "</div>"
      ],
      "text/plain": [
       "action  user_id  discovered  passed  started_attempt  viewed\n",
       "0             1           1       0                0       1\n",
       "1             2           9       9                2      10\n",
       "2             3          91      87               30     192\n",
       "3             5          11      11                4      12\n",
       "4             7           1       1                0       1"
      ]
     },
     "execution_count": 191,
     "metadata": {},
     "output_type": "execute_result"
    }
   ],
   "source": [
    "users_event_data = events_data.pivot_table(index='user_id',\n",
    "                                           columns=\"action\",\n",
    "                                           values=\"step_id\",\n",
    "                                           fill_value=0,\n",
    "                                           aggfunc=\"count\").reset_index()\n",
    "users_event_data.head()"
   ]
  },
  {
   "cell_type": "code",
   "execution_count": 192,
   "id": "e3167b1f",
   "metadata": {},
   "outputs": [
    {
     "data": {
      "text/html": [
       "<div>\n",
       "<style scoped>\n",
       "    .dataframe tbody tr th:only-of-type {\n",
       "        vertical-align: middle;\n",
       "    }\n",
       "\n",
       "    .dataframe tbody tr th {\n",
       "        vertical-align: top;\n",
       "    }\n",
       "\n",
       "    .dataframe thead th {\n",
       "        text-align: right;\n",
       "    }\n",
       "</style>\n",
       "<table border=\"1\" class=\"dataframe\">\n",
       "  <thead>\n",
       "    <tr style=\"text-align: right;\">\n",
       "      <th>submission_status</th>\n",
       "      <th>user_id</th>\n",
       "      <th>correct</th>\n",
       "      <th>wrong</th>\n",
       "    </tr>\n",
       "  </thead>\n",
       "  <tbody>\n",
       "    <tr>\n",
       "      <th>0</th>\n",
       "      <td>2</td>\n",
       "      <td>2</td>\n",
       "      <td>0</td>\n",
       "    </tr>\n",
       "    <tr>\n",
       "      <th>1</th>\n",
       "      <td>3</td>\n",
       "      <td>29</td>\n",
       "      <td>23</td>\n",
       "    </tr>\n",
       "    <tr>\n",
       "      <th>2</th>\n",
       "      <td>5</td>\n",
       "      <td>2</td>\n",
       "      <td>2</td>\n",
       "    </tr>\n",
       "    <tr>\n",
       "      <th>3</th>\n",
       "      <td>8</td>\n",
       "      <td>9</td>\n",
       "      <td>21</td>\n",
       "    </tr>\n",
       "    <tr>\n",
       "      <th>4</th>\n",
       "      <td>14</td>\n",
       "      <td>0</td>\n",
       "      <td>1</td>\n",
       "    </tr>\n",
       "  </tbody>\n",
       "</table>\n",
       "</div>"
      ],
      "text/plain": [
       "submission_status  user_id  correct  wrong\n",
       "0                        2        2      0\n",
       "1                        3       29     23\n",
       "2                        5        2      2\n",
       "3                        8        9     21\n",
       "4                       14        0      1"
      ]
     },
     "execution_count": 192,
     "metadata": {},
     "output_type": "execute_result"
    }
   ],
   "source": [
    "users_score = submissions.pivot_table(index=\"user_id\", \n",
    "                             columns=\"submission_status\", \n",
    "                             values=\"step_id\", \n",
    "                             aggfunc=\"count\", \n",
    "                             fill_value=0).reset_index()\n",
    "\n",
    "users_score.head()\n"
   ]
  },
  {
   "cell_type": "markdown",
   "id": "1a2ce0e9",
   "metadata": {},
   "source": [
    "## Определение участников \"выпавших из курса\""
   ]
  },
  {
   "cell_type": "code",
   "execution_count": 193,
   "id": "dbff47d2",
   "metadata": {},
   "outputs": [
    {
     "data": {
      "text/plain": [
       "array([array([], dtype=int64), array([4843602]),\n",
       "       array([6899249,  182484,   93710, 2768870,  171400,   78712]), ...,\n",
       "       array([   86128,   136759,    94899,  1422583, 14347289,   505061,\n",
       "                 98252,    57019])                                       ,\n",
       "       array([1567990]), array([], dtype=int64)],\n",
       "      shape=(19234,), dtype=object)"
      ]
     },
     "execution_count": 193,
     "metadata": {},
     "output_type": "execute_result"
    }
   ],
   "source": [
    "date_gap =( events_data[[\"user_id\",\"day\",\"timestamp\"]]\n",
    "    .drop_duplicates(subset=[\"user_id\",\"day\"])\n",
    "    .groupby(\"user_id\")[\"timestamp\"]\n",
    "    .agg(list)\n",
    "    .transform(np.diff)\n",
    ")\n",
    "date_gap.values"
   ]
  },
  {
   "cell_type": "code",
   "execution_count": 194,
   "id": "688e716b",
   "metadata": {},
   "outputs": [],
   "source": [
    "date_gap = pd.Series(np.concatenate(date_gap.values, axis = 0)) / (24*60*60)"
   ]
  },
  {
   "cell_type": "code",
   "execution_count": 195,
   "id": "cab0dce2",
   "metadata": {},
   "outputs": [
    {
     "data": {
      "text/plain": [
       "<Axes: >"
      ]
     },
     "execution_count": 195,
     "metadata": {},
     "output_type": "execute_result"
    },
    {
     "data": {
      "image/png": "[encoded data removed]",
      "text/plain": [
       "<Figure size 640x480 with 1 Axes>"
      ]
     },
     "metadata": {},
     "output_type": "display_data"
    }
   ],
   "source": [
    "fig, ax = plt.subplots()\n",
    "\n",
    "date_gap[date_gap<200].hist(ax=ax)\n"
   ]
  },
  {
   "cell_type": "code",
   "execution_count": 196,
   "id": "bd106ac4",
   "metadata": {},
   "outputs": [
    {
     "data": {
      "text/plain": [
       "np.float64(18.325995370370403)"
      ]
     },
     "execution_count": 196,
     "metadata": {},
     "output_type": "execute_result"
    }
   ],
   "source": [
    "date_gap.quantile(0.90)"
   ]
  },
  {
   "cell_type": "code",
   "execution_count": 197,
   "id": "e6a0035c",
   "metadata": {},
   "outputs": [],
   "source": [
    "drop_out_timestamp = date_gap.quantile(0.90) *24*60*60\n",
    "now = events_data.timestamp.max()"
   ]
  },
  {
   "cell_type": "code",
   "execution_count": 198,
   "id": "72a4ee3f",
   "metadata": {},
   "outputs": [],
   "source": [
    "#добавить колонку последнего входа пользователя\n",
    "users_data = events_data.groupby(\"user_id\", as_index=False).agg({\"timestamp\":\"max\"}).rename(columns={\"timestamp\":\"last_timestamp\"})\n",
    "\n",
    "#отранжировать данные\n",
    "#последнее действие пользователя не должно превышать порог\n",
    "users_data[\"is_gone\"] = (now - users_data[\"last_timestamp\"]) > drop_out_timestamp\n",
    "\n",
    "users_data = (users_data.drop(\"last_timestamp\",axis=1) #убираем техническую колонку с временем последнего действия\n",
    "    .merge(users_score,how=\"outer\") #добавляем данные по практическим заданиям (количество правильных/неправильных попыток)\n",
    "    .fillna(0)) #некоторые пользователи не дошли до правктики, заполняем пропуски 0\n",
    "\n",
    "#добавляем данные о действиях участника курса\n",
    "users_data = users_data.merge(users_event_data, how=\"outer\") \n",
    "\n",
    "#сертификат о прохождении курса выдается с 175 пройденных точек\n",
    "users_data[\"is_passed\"] = users_data.passed > 175"
   ]
  },
  {
   "cell_type": "code",
   "execution_count": 199,
   "id": "da470bef",
   "metadata": {},
   "outputs": [
    {
     "data": {
      "text/plain": [
       "is_passed\n",
       "False    17844\n",
       "True      1390\n",
       "Name: user_id, dtype: int64"
      ]
     },
     "execution_count": 199,
     "metadata": {},
     "output_type": "execute_result"
    }
   ],
   "source": [
    "users_data.groupby(\"is_passed\").count()[\"user_id\"]"
   ]
  },
  {
   "cell_type": "markdown",
   "id": "6cd16b51",
   "metadata": {},
   "source": [
    "# Выборка тренировочных данных\n",
    "Пусть модель будет предсказывать вероятность оттока студента на 3-м дне обучения. Отберем все данные для создания тренировочного датасета"
   ]
  },
  {
   "cell_type": "code",
   "execution_count": 200,
   "id": "a3351ce3",
   "metadata": {},
   "outputs": [],
   "source": [
    "#3 дня в секундах\n",
    "timestamp_user_treshold = 3*24*60*60"
   ]
  },
  {
   "cell_type": "markdown",
   "id": "88b6d935",
   "metadata": {},
   "source": [
    "## Фильтрация студентов\n",
    "отберем данные для каждого польщзователя на первых 3-х днях обучения"
   ]
  },
  {
   "cell_type": "code",
   "execution_count": 201,
   "id": "21b4e6cf",
   "metadata": {},
   "outputs": [],
   "source": [
    "#Вспомогательная колонка первого действия на курсе для кждого пользователя\n",
    "user_min_timestamp = events_data.groupby(\"user_id\", as_index=False).agg({\"timestamp\":\"min\"}).rename(columns={\"timestamp\":\"min_timestamp\"})\n",
    "\n",
    "#К первому действию добавляем 3 дня и получаем порог отбора по времени\n",
    "user_threshold = user_min_timestamp.min_timestamp + timestamp_user_treshold\n",
    "#Переносим его в новую колонку, сохраняя индекс пользователя\n",
    "user_min_timestamp[\"user_threshold\"] = user_min_timestamp.user_id.astype(str) +\"_\"+ user_threshold.astype(str)"
   ]
  },
  {
   "cell_type": "code",
   "execution_count": 202,
   "id": "22751951",
   "metadata": {},
   "outputs": [
    {
     "data": {
      "text/html": [
       "<div>\n",
       "<style scoped>\n",
       "    .dataframe tbody tr th:only-of-type {\n",
       "        vertical-align: middle;\n",
       "    }\n",
       "\n",
       "    .dataframe tbody tr th {\n",
       "        vertical-align: top;\n",
       "    }\n",
       "\n",
       "    .dataframe thead th {\n",
       "        text-align: right;\n",
       "    }\n",
       "</style>\n",
       "<table border=\"1\" class=\"dataframe\">\n",
       "  <thead>\n",
       "    <tr style=\"text-align: right;\">\n",
       "      <th></th>\n",
       "      <th>user_id</th>\n",
       "      <th>min_timestamp</th>\n",
       "      <th>user_threshold</th>\n",
       "    </tr>\n",
       "  </thead>\n",
       "  <tbody>\n",
       "    <tr>\n",
       "      <th>0</th>\n",
       "      <td>1</td>\n",
       "      <td>1472827464</td>\n",
       "      <td>1_1473086664</td>\n",
       "    </tr>\n",
       "    <tr>\n",
       "      <th>1</th>\n",
       "      <td>2</td>\n",
       "      <td>1514383364</td>\n",
       "      <td>2_1514642564</td>\n",
       "    </tr>\n",
       "    <tr>\n",
       "      <th>2</th>\n",
       "      <td>3</td>\n",
       "      <td>1434358476</td>\n",
       "      <td>3_1434617676</td>\n",
       "    </tr>\n",
       "    <tr>\n",
       "      <th>3</th>\n",
       "      <td>5</td>\n",
       "      <td>1466156809</td>\n",
       "      <td>5_1466416009</td>\n",
       "    </tr>\n",
       "    <tr>\n",
       "      <th>4</th>\n",
       "      <td>7</td>\n",
       "      <td>1521634660</td>\n",
       "      <td>7_1521893860</td>\n",
       "    </tr>\n",
       "  </tbody>\n",
       "</table>\n",
       "</div>"
      ],
      "text/plain": [
       "   user_id  min_timestamp user_threshold\n",
       "0        1     1472827464   1_1473086664\n",
       "1        2     1514383364   2_1514642564\n",
       "2        3     1434358476   3_1434617676\n",
       "3        5     1466156809   5_1466416009\n",
       "4        7     1521634660   7_1521893860"
      ]
     },
     "execution_count": 202,
     "metadata": {},
     "output_type": "execute_result"
    }
   ],
   "source": [
    "user_min_timestamp.head()"
   ]
  },
  {
   "cell_type": "code",
   "execution_count": 203,
   "id": "36e4aaaa",
   "metadata": {},
   "outputs": [],
   "source": [
    "#Колонка индекса пользователя + \"_\" + время на текущим степе (для корректного сравнения)\n",
    "events_data[\"user_timestamp\"] = events_data.user_id.astype(str) +\"_\"+ events_data.timestamp.astype(str)\n",
    "\n",
    "#перезаписыаем датасет с новыми колонками\n",
    "events_data = events_data.merge(user_min_timestamp.drop(\"min_timestamp\", axis=1), #игнорируем вспомогательную переменную\n",
    "                                 on=\"user_id\",how=\"outer\")\n",
    "\n",
    "#фильтруем данные каждого степа по устаноленному порогу\n",
    "events_train = events_data[events_data.user_timestamp <= events_data.user_threshold]\n",
    "\n",
    "\n",
    "#повторяем для 2-го датасета по практике\n",
    "submissions[\"user_timestamp\"] = submissions.user_id.astype(str) +\"_\"+ submissions.timestamp.astype(str)\n",
    "submissions = submissions.merge(user_min_timestamp.drop(\"min_timestamp\", axis=1), on=\"user_id\",how=\"outer\")\n",
    "submissions_train = submissions[submissions.user_timestamp <= submissions.user_threshold]"
   ]
  },
  {
   "cell_type": "code",
   "execution_count": 204,
   "id": "540fb82d",
   "metadata": {},
   "outputs": [
    {
     "data": {
      "text/html": [
       "<div>\n",
       "<style scoped>\n",
       "    .dataframe tbody tr th:only-of-type {\n",
       "        vertical-align: middle;\n",
       "    }\n",
       "\n",
       "    .dataframe tbody tr th {\n",
       "        vertical-align: top;\n",
       "    }\n",
       "\n",
       "    .dataframe thead th {\n",
       "        text-align: right;\n",
       "    }\n",
       "</style>\n",
       "<table border=\"1\" class=\"dataframe\">\n",
       "  <thead>\n",
       "    <tr style=\"text-align: right;\">\n",
       "      <th></th>\n",
       "      <th>step_id</th>\n",
       "      <th>timestamp</th>\n",
       "      <th>action</th>\n",
       "      <th>user_id</th>\n",
       "      <th>date</th>\n",
       "      <th>day</th>\n",
       "      <th>user_timestamp</th>\n",
       "      <th>user_threshold</th>\n",
       "    </tr>\n",
       "  </thead>\n",
       "  <tbody>\n",
       "    <tr>\n",
       "      <th>0</th>\n",
       "      <td>31981</td>\n",
       "      <td>1472827464</td>\n",
       "      <td>viewed</td>\n",
       "      <td>1</td>\n",
       "      <td>2016-09-02 14:44:24</td>\n",
       "      <td>2016-09-02</td>\n",
       "      <td>1_1472827464</td>\n",
       "      <td>1_1473086664</td>\n",
       "    </tr>\n",
       "    <tr>\n",
       "      <th>1</th>\n",
       "      <td>31981</td>\n",
       "      <td>1472827464</td>\n",
       "      <td>discovered</td>\n",
       "      <td>1</td>\n",
       "      <td>2016-09-02 14:44:24</td>\n",
       "      <td>2016-09-02</td>\n",
       "      <td>1_1472827464</td>\n",
       "      <td>1_1473086664</td>\n",
       "    </tr>\n",
       "    <tr>\n",
       "      <th>2</th>\n",
       "      <td>32815</td>\n",
       "      <td>1514383364</td>\n",
       "      <td>discovered</td>\n",
       "      <td>2</td>\n",
       "      <td>2017-12-27 14:02:44</td>\n",
       "      <td>2017-12-27</td>\n",
       "      <td>2_1514383364</td>\n",
       "      <td>2_1514642564</td>\n",
       "    </tr>\n",
       "    <tr>\n",
       "      <th>3</th>\n",
       "      <td>32815</td>\n",
       "      <td>1514383364</td>\n",
       "      <td>viewed</td>\n",
       "      <td>2</td>\n",
       "      <td>2017-12-27 14:02:44</td>\n",
       "      <td>2017-12-27</td>\n",
       "      <td>2_1514383364</td>\n",
       "      <td>2_1514642564</td>\n",
       "    </tr>\n",
       "    <tr>\n",
       "      <th>4</th>\n",
       "      <td>32815</td>\n",
       "      <td>1514383364</td>\n",
       "      <td>passed</td>\n",
       "      <td>2</td>\n",
       "      <td>2017-12-27 14:02:44</td>\n",
       "      <td>2017-12-27</td>\n",
       "      <td>2_1514383364</td>\n",
       "      <td>2_1514642564</td>\n",
       "    </tr>\n",
       "  </tbody>\n",
       "</table>\n",
       "</div>"
      ],
      "text/plain": [
       "   step_id   timestamp      action  user_id                date         day  \\\n",
       "0    31981  1472827464      viewed        1 2016-09-02 14:44:24  2016-09-02   \n",
       "1    31981  1472827464  discovered        1 2016-09-02 14:44:24  2016-09-02   \n",
       "2    32815  1514383364  discovered        2 2017-12-27 14:02:44  2017-12-27   \n",
       "3    32815  1514383364      viewed        2 2017-12-27 14:02:44  2017-12-27   \n",
       "4    32815  1514383364      passed        2 2017-12-27 14:02:44  2017-12-27   \n",
       "\n",
       "  user_timestamp user_threshold  \n",
       "0   1_1472827464   1_1473086664  \n",
       "1   1_1472827464   1_1473086664  \n",
       "2   2_1514383364   2_1514642564  \n",
       "3   2_1514383364   2_1514642564  \n",
       "4   2_1514383364   2_1514642564  "
      ]
     },
     "execution_count": 204,
     "metadata": {},
     "output_type": "execute_result"
    }
   ],
   "source": [
    "events_train.head()"
   ]
  },
  {
   "cell_type": "markdown",
   "id": "6de46e3d",
   "metadata": {},
   "source": [
    "## Формируем готовый датасет обучения"
   ]
  },
  {
   "cell_type": "code",
   "execution_count": 275,
   "id": "cb97cac8",
   "metadata": {},
   "outputs": [],
   "source": [
    "X = (submissions_train.groupby(\"user_id\",as_index=False)\n",
    "    .agg({\"step_id\":\"nunique\",\"day\":\"nunique\"}) #получаем количество уникальных степов и количество потраченных дней по студенту\n",
    "    .rename(columns={\"step_id\":\"steps_tried\",\"day\":\"practice_days\"})) #переименовываем колонки"
   ]
  },
  {
   "cell_type": "code",
   "execution_count": 276,
   "id": "3557f1fa",
   "metadata": {},
   "outputs": [],
   "source": [
    "#добавим данные о практических заданиях\n",
    "X = X.merge(submissions_train.pivot_table(\n",
    "    index=\"user_id\", #данные отбираем по каждому студенту\n",
    "    values=\"step_id\", #агрегируем по степам \n",
    "    columns=\"submission_status\", #разделяем статусы верно/неверно по колонкам\n",
    "    aggfunc=\"count\", #общее количество правильных/неправильны решений\n",
    "    fill_value=0).reset_index(), on=\"user_id\",how=\"outer\") #заполняем пропуски для тех, кто ничего не решал\n",
    "\n",
    "\n",
    "#Добавляем колонку показателя точности ответа\n",
    "X[\"answer_accuracy\"] = X.correct / (X.correct + X.wrong)"
   ]
  },
  {
   "cell_type": "code",
   "execution_count": 277,
   "id": "d331aa2f",
   "metadata": {},
   "outputs": [],
   "source": [
    "#То же самое с датасетом действий\n",
    "X = X.merge(events_train.pivot_table(index=\"user_id\", #для кадого студента\n",
    "                                    values=\"step_id\", #по каждому степу\n",
    "                                    columns=\"action\", #разбиение по вариантам действий\n",
    "                                    fill_value=0, aggfunc=\"count\").reset_index(),on=\"user_id\",how=\"outer\")"
   ]
  },
  {
   "cell_type": "code",
   "execution_count": 278,
   "id": "4520d45e",
   "metadata": {},
   "outputs": [],
   "source": [
    "#все пропуски заполняем 0 по умолчанию\n",
    "X = X.fillna(0)\n",
    "\n",
    "#добавляем данные о прохождении / завале курса\n",
    "X = X.merge(users_data[['user_id',\"is_gone\",\"is_passed\"]],on=\"user_id\",how=\"outer\")"
   ]
  },
  {
   "cell_type": "code",
   "execution_count": 279,
   "id": "ee89f722",
   "metadata": {},
   "outputs": [],
   "source": [
    "#фильтруем пользователей, которые еще не прошли курс и при этом активно его решают\n",
    "X = X[X.is_gone | X.is_passed]\n",
    "\n",
    "#выбрасываем вспомогательную переменную\n",
    "X = X.drop(\"is_gone\", axis=1)"
   ]
  },
  {
   "cell_type": "code",
   "execution_count": 280,
   "id": "639fb9f3",
   "metadata": {},
   "outputs": [
    {
     "data": {
      "text/html": [
       "<div>\n",
       "<style scoped>\n",
       "    .dataframe tbody tr th:only-of-type {\n",
       "        vertical-align: middle;\n",
       "    }\n",
       "\n",
       "    .dataframe tbody tr th {\n",
       "        vertical-align: top;\n",
       "    }\n",
       "\n",
       "    .dataframe thead th {\n",
       "        text-align: right;\n",
       "    }\n",
       "</style>\n",
       "<table border=\"1\" class=\"dataframe\">\n",
       "  <thead>\n",
       "    <tr style=\"text-align: right;\">\n",
       "      <th></th>\n",
       "      <th>steps_tried</th>\n",
       "      <th>practice_days</th>\n",
       "      <th>correct</th>\n",
       "      <th>wrong</th>\n",
       "      <th>answer_accuracy</th>\n",
       "      <th>viewed</th>\n",
       "      <th>is_passed</th>\n",
       "    </tr>\n",
       "    <tr>\n",
       "      <th>user_id</th>\n",
       "      <th></th>\n",
       "      <th></th>\n",
       "      <th></th>\n",
       "      <th></th>\n",
       "      <th></th>\n",
       "      <th></th>\n",
       "      <th></th>\n",
       "    </tr>\n",
       "  </thead>\n",
       "  <tbody>\n",
       "    <tr>\n",
       "      <th>1</th>\n",
       "      <td>0.0</td>\n",
       "      <td>0.0</td>\n",
       "      <td>0.0</td>\n",
       "      <td>0.0</td>\n",
       "      <td>0.0</td>\n",
       "      <td>1</td>\n",
       "      <td>False</td>\n",
       "    </tr>\n",
       "    <tr>\n",
       "      <th>2</th>\n",
       "      <td>2.0</td>\n",
       "      <td>1.0</td>\n",
       "      <td>2.0</td>\n",
       "      <td>0.0</td>\n",
       "      <td>1.0</td>\n",
       "      <td>9</td>\n",
       "      <td>False</td>\n",
       "    </tr>\n",
       "    <tr>\n",
       "      <th>3</th>\n",
       "      <td>4.0</td>\n",
       "      <td>1.0</td>\n",
       "      <td>4.0</td>\n",
       "      <td>4.0</td>\n",
       "      <td>0.5</td>\n",
       "      <td>20</td>\n",
       "      <td>False</td>\n",
       "    </tr>\n",
       "    <tr>\n",
       "      <th>5</th>\n",
       "      <td>0.0</td>\n",
       "      <td>0.0</td>\n",
       "      <td>0.0</td>\n",
       "      <td>0.0</td>\n",
       "      <td>0.0</td>\n",
       "      <td>1</td>\n",
       "      <td>False</td>\n",
       "    </tr>\n",
       "    <tr>\n",
       "      <th>7</th>\n",
       "      <td>0.0</td>\n",
       "      <td>0.0</td>\n",
       "      <td>0.0</td>\n",
       "      <td>0.0</td>\n",
       "      <td>0.0</td>\n",
       "      <td>1</td>\n",
       "      <td>False</td>\n",
       "    </tr>\n",
       "  </tbody>\n",
       "</table>\n",
       "</div>"
      ],
      "text/plain": [
       "         steps_tried  practice_days  correct  wrong  answer_accuracy  viewed  \\\n",
       "user_id                                                                        \n",
       "1                0.0            0.0      0.0    0.0              0.0       1   \n",
       "2                2.0            1.0      2.0    0.0              1.0       9   \n",
       "3                4.0            1.0      4.0    4.0              0.5      20   \n",
       "5                0.0            0.0      0.0    0.0              0.0       1   \n",
       "7                0.0            0.0      0.0    0.0              0.0       1   \n",
       "\n",
       "         is_passed  \n",
       "user_id             \n",
       "1            False  \n",
       "2            False  \n",
       "3            False  \n",
       "5            False  \n",
       "7            False  "
      ]
     },
     "execution_count": 280,
     "metadata": {},
     "output_type": "execute_result"
    }
   ],
   "source": [
    "#индексы не должны учасвствовать в исследовании\n",
    "X = X.set_index(\"user_id\")\n",
    "\n",
    "#переменная viewed уже содержит необходимые данные, остальные излишни\n",
    "X = X.drop([\"discovered\",\"passed\",\"started_attempt\"],axis=1)\n",
    "\n",
    "X.head()"
   ]
  },
  {
   "cell_type": "markdown",
   "id": "9add381f",
   "metadata": {},
   "source": [
    "В текущей фильтрации пользователи имеют 100% точность, но это не отражает способность решать курс (люди решают мало степов и получают больую точность)"
   ]
  },
  {
   "cell_type": "code",
   "execution_count": 281,
   "id": "35c55b6e",
   "metadata": {},
   "outputs": [
    {
     "data": {
      "text/plain": [
       "<Axes: xlabel='answer_accuracy', ylabel='Count'>"
      ]
     },
     "execution_count": 281,
     "metadata": {},
     "output_type": "execute_result"
    },
    {
     "data": {
      "image/png": "[encoded data removed]",
      "text/plain": [
       "<Figure size 640x480 with 1 Axes>"
      ]
     },
     "metadata": {},
     "output_type": "display_data"
    }
   ],
   "source": [
    "#люди с пропусками загрязняют график, отфильтруем их\n",
    "sns.histplot(X[X.steps_tried >0],x=\"answer_accuracy\", hue=\"is_passed\")"
   ]
  },
  {
   "cell_type": "code",
   "execution_count": 283,
   "id": "b665ac25",
   "metadata": {},
   "outputs": [],
   "source": [
    "answer_accurancy_normalized = (X.correct / (X.correct + X.wrong)) * X.steps_tried\n",
    "answer_accurancy_normalized = answer_accurancy_normalized.fillna(0)"
   ]
  },
  {
   "cell_type": "markdown",
   "id": "46f1e5de",
   "metadata": {},
   "source": [
    "*мысли на позже. Попробовать использовать уровень доверительного интервала как параметр нормализаии*"
   ]
  },
  {
   "cell_type": "code",
   "execution_count": 297,
   "id": "f51ab641",
   "metadata": {},
   "outputs": [
    {
     "data": {
      "text/plain": [
       "<Axes: xlabel='steps_tried', ylabel='Count'>"
      ]
     },
     "execution_count": 297,
     "metadata": {},
     "output_type": "execute_result"
    },
    {
     "data": {
      "image/png": "[encoded data removed]",
      "text/plain": [
       "<Figure size 640x480 with 1 Axes>"
      ]
     },
     "metadata": {},
     "output_type": "display_data"
    }
   ],
   "source": [
    "sns.histplot(X[(X.steps_tried >0) & (X.steps_tried <20)],x=\"steps_tried\",hue=\"is_passed\")"
   ]
  },
  {
   "cell_type": "code",
   "execution_count": 214,
   "id": "c32f1c08",
   "metadata": {},
   "outputs": [],
   "source": [
    "X[\"weighted_score\"] =answer_accurancy_normalized"
   ]
  },
  {
   "cell_type": "code",
   "execution_count": 215,
   "id": "7d6ca049",
   "metadata": {},
   "outputs": [
    {
     "data": {
      "text/plain": [
       "<Axes: xlabel='weighted_score', ylabel='Count'>"
      ]
     },
     "execution_count": 215,
     "metadata": {},
     "output_type": "execute_result"
    },
    {
     "data": {
      "image/png": "[encoded data removed]",
      "text/plain": [
       "<Figure size 640x480 with 1 Axes>"
      ]
     },
     "metadata": {},
     "output_type": "display_data"
    }
   ],
   "source": [
    "sns.histplot(X[(X.weighted_score>0) & (X.weighted_score <20)], x=\"weighted_score\", hue=\"is_passed\")"
   ]
  },
  {
   "cell_type": "code",
   "execution_count": null,
   "id": "7a8d5dec",
   "metadata": {},
   "outputs": [],
   "source": []
  },
  {
   "cell_type": "markdown",
   "id": "bf02ee27",
   "metadata": {},
   "source": [
    "# Модель\n",
    "Разработка модели линейной регрессии и дерева решений на данных"
   ]
  },
  {
   "cell_type": "code",
   "execution_count": 243,
   "id": "91a5eb60",
   "metadata": {},
   "outputs": [],
   "source": [
    "from sklearn.model_selection import train_test_split\n",
    "from sklearn.model_selection import GridSearchCV\n",
    "from sklearn import metrics"
   ]
  },
  {
   "cell_type": "markdown",
   "id": "367e0c09",
   "metadata": {},
   "source": [
    "## Дерево-классификатор"
   ]
  },
  {
   "cell_type": "code",
   "execution_count": 244,
   "id": "b4901d07",
   "metadata": {},
   "outputs": [],
   "source": [
    "#дерево классификатор\n",
    "from sklearn.tree import plot_tree\n",
    "from sklearn.tree import DecisionTreeClassifier"
   ]
  },
  {
   "cell_type": "code",
   "execution_count": 260,
   "id": "1b723428",
   "metadata": {},
   "outputs": [],
   "source": [
    "#не включаем экспериментальную переменую ROC=0.55\n",
    "#X_df = X.drop([\"is_passed\",\"weighted_score\"], axis=1)\n",
    "\n",
    "X_df = X.drop([\"is_passed\",\"steps_tried\",\"answer_accuracy\",\"correct\",\"wrong\"], axis=1)\n",
    "\n",
    "y_df = X[\"is_passed\"]"
   ]
  },
  {
   "cell_type": "code",
   "execution_count": 261,
   "id": "c8121010",
   "metadata": {},
   "outputs": [],
   "source": [
    "X_train, X_test, y_train, y_test = train_test_split(X_df, y_df,test_size=0.25)"
   ]
  },
  {
   "cell_type": "code",
   "execution_count": 262,
   "id": "b69fed07",
   "metadata": {},
   "outputs": [],
   "source": [
    "parameters = {\"max_depth\":range(1,20),\"min_samples_split\":range(2,10), \"min_samples_leaf\":range(2,10)}\n",
    "\n",
    "clf = DecisionTreeClassifier()\n",
    "\n",
    "search = GridSearchCV(clf,param_grid=parameters)\n",
    "search.fit(X_train,y_train)\n",
    "\n",
    "best_tree = search.best_estimator_"
   ]
  },
  {
   "cell_type": "code",
   "execution_count": 263,
   "id": "7bf19d21",
   "metadata": {},
   "outputs": [
    {
     "data": {
      "image/png": "[encoded data removed]",
      "text/plain": [
       "<Figure size 640x480 with 1 Axes>"
      ]
     },
     "metadata": {},
     "output_type": "display_data"
    }
   ],
   "source": [
    "plot_tree(best_tree,feature_names=X_train.columns, filled=True)\n",
    "plt.show()"
   ]
  },
  {
   "cell_type": "markdown",
   "id": "8c111b76",
   "metadata": {},
   "source": [
    "## ROC кривая для дерева решений"
   ]
  },
  {
   "cell_type": "code",
   "execution_count": 264,
   "id": "b065d393",
   "metadata": {},
   "outputs": [],
   "source": [
    "predicted = best_tree.predict(X_test)"
   ]
  },
  {
   "cell_type": "code",
   "execution_count": 265,
   "id": "dba1019c",
   "metadata": {},
   "outputs": [
    {
     "data": {
      "image/png": "[encoded data removed]",
      "text/plain": [
       "<Figure size 640x480 with 1 Axes>"
      ]
     },
     "metadata": {},
     "output_type": "display_data"
    }
   ],
   "source": [
    "roc_curve = metrics.RocCurveDisplay.from_predictions(y_test, predicted, color=\"darkorange\",plot_chance_level=True,)\n"
   ]
  },
  {
   "cell_type": "code",
   "execution_count": null,
   "id": "c40df24c",
   "metadata": {},
   "outputs": [],
   "source": []
  }
 ],
 "metadata": {
  "kernelspec": {
   "display_name": "Python 3",
   "language": "python",
   "name": "python3"
  },
  "language_info": {
   "codemirror_mode": {
    "name": "ipython",
    "version": 3
   },
   "file_extension": ".py",
   "mimetype": "text/x-python",
   "name": "python",
   "nbconvert_exporter": "python",
   "pygments_lexer": "ipython3",
   "version": "3.11.9"
  }
 },
 "nbformat": 4,
 "nbformat_minor": 5
}
